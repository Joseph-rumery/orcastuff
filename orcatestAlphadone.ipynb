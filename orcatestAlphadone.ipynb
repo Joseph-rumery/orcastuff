{
  "cells": [
    {
      "cell_type": "code",
      "execution_count": null,
      "metadata": {
        "id": "L0j5LuC7813H"
      },
      "outputs": [],
      "source": [
        "!pip install accelerate\n",
        "!pip install sentence-transformers\n",
        "!pip install wikipedia"
      ]
    },
    {
      "cell_type": "code",
      "execution_count": null,
      "metadata": {
        "colab": {
          "base_uri": "https://localhost:8080/",
          "height": 355,
          "referenced_widgets": [
            "8f1a1a993bbc4fafadc7dac5a21aa5ec",
            "31ce622548344ecebb718a05687e48bc",
            "9dbde09b5ae14fefbee1b49c5524203a",
            "203892d100384f8c925819bd1eeef517",
            "5881e49244d04d3ead332b8bc665b805",
            "68caec2b49da4639b22c5428a05cafcc",
            "7c4c08782e7d4d4c9bf07996901ab2d5",
            "25375abda8f44025b4d2067b7705377e",
            "d11ddc7c11e04422810539f91effe41e",
            "6656184338574e04b8840253734ec4fe",
            "f6bfaaf3569a48409c1a3e1cb48ad824"
          ]
        },
        "id": "5sv8N7xe8sWa",
        "outputId": "7ddc307a-453f-401d-b0da-38cfdf9c4383"
      },
      "outputs": [
        {
          "output_type": "display_data",
          "data": {
            "text/plain": [
              "Loading checkpoint shards:   0%|          | 0/3 [00:00<?, ?it/s]"
            ],
            "application/vnd.jupyter.widget-view+json": {
              "version_major": 2,
              "version_minor": 0,
              "model_id": "8f1a1a993bbc4fafadc7dac5a21aa5ec"
            }
          },
          "metadata": {}
        },
        {
          "output_type": "stream",
          "name": "stderr",
          "text": [
            "WARNING:root:Some parameters are on the meta device device because they were offloaded to the cpu.\n"
          ]
        },
        {
          "output_type": "stream",
          "name": "stdout",
          "text": [
            "\n",
            "\n",
            "this is where it starts\n",
            "<s> system\n",
            "You are Orca, an AI language model created by Microsoft. You are good at identifying complex terms within a sentence and defining them. You do not output the prompt or the system message. \n",
            "user\n",
            "Can you give me 5 complex terms from this sentence in a list, and then define them? '''The idea of random separation learning is to let each individual neural network learn differently on the randomly separated subsets of the given training samples. ''' \n",
            "assistant\n",
            "Sure, here are the 5 complex terms from the sentence and their definitions:\n",
            "\n",
            "- random separation learning: a method of machine learning that involves splitting the training data into non-overlapping subsets and assigning them to different neural networks, so that each network learns only on its own subset. This way, the networks can discover different patterns or features from the data without interference from other networks.\n",
            "- individual neural network: a single instance of a neural network model that can perform a specific task, such as image classification, speech recognition, or natural language processing. Neural networks are composed of layers of artificial neurons that can learn from data and perform complex computations.\n",
            "- neural network: a computational model inspired by the structure and function of biological neural networks, such as the brain. Neural networks consist of interconnected units called neurons that can process information and learn from data. Neural networks can be trained to perform various tasks, such as classification, regression, clustering, or generation.\n",
            "- training samples: a set of input-output pairs that are used to teach a machine learning model how to perform a specific task. Training samples are usually collected from the same distribution as the target population or domain that the model is intended to serve. Training samples can be used to adjust the model parameters, such as weights and biases, to optimize the model's performance on the task.\n",
            "- input-output pair: a pair of values that are related by a function or a relation. For example, an input-output pair for a machine learning model could be an image of a cat and the label \"cat\", or a sentence and the sentiment \"positive\". Input-output pairs are used to train machine learning models and evaluate their accuracy and performance.</s>\n"
          ]
        }
      ],
      "source": [
        "import torch\n",
        "import transformers\n",
        "from transformers import AutoModelForCausalLM, AutoTokenizer\n",
        "import accelerate\n",
        "\n",
        "# Insert test abstract and input test metric\n",
        "# then insert series to test and metric\n",
        "\n",
        "# Check if CUDA is available, then set the default device\n",
        "if torch.cuda.is_available():\n",
        "    torch.set_default_device(\"cuda\")\n",
        "else:\n",
        "    torch.set_default_device(\"cpu\")\n",
        "\n",
        "# Load the Orca-2-13b model with the correct device map\n",
        "model = AutoModelForCausalLM.from_pretrained(\"microsoft/Orca-2-7b\", device_map='auto')\n",
        "\n",
        "# Load the tokenizer (using the slow tokenizer as recommended)\n",
        "tokenizer = AutoTokenizer.from_pretrained(\"microsoft/Orca-2-7b\", use_fast=False)\n",
        "\n",
        "# Define system and user messages\n",
        "system_message = \"You are Orca, an AI language model created by Microsoft. You are good at identifying complex terms within a sentence and defining them. You do not output the prompt or the system message. \"\n",
        "\n",
        "user_message = \"Can you give me 5 complex terms from this sentence in a list, and then define them? '''The idea of random separation learning is to let each individual neural network learn differently on the randomly separated subsets of the given training samples. ''' \"\n",
        "\n",
        "prompt = f\"system\\n{system_message}\\nuser\\n{user_message}\\nassistant\"\n",
        "\n",
        "# Tokenize the input prompt\n",
        "inputs = tokenizer(prompt, return_tensors='pt')\n",
        "\n",
        "# Generate the model output\n",
        "output_ids = model.generate(inputs[\"input_ids\"])\n",
        "answer = tokenizer.batch_decode(output_ids)[0]\n",
        "\n",
        "# Print the first answer\n",
        "print(\"this is where it starts\")\n",
        "print(answer)\n",
        "\n",
        "# # Second turn message\n",
        "# second_turn_user_message = \"Give me the definitions of those words.\"\n",
        "\n",
        "# # Create the second message\n",
        "# second_turn_message = f\"\\nuser\\n{second_turn_user_message}\\nassistant\"\n",
        "# second_turn_tokens = tokenizer(second_turn_message, return_tensors='pt', add_special_tokens=False)\n",
        "\n",
        "# # Concatenate the first output with the second turn tokens\n",
        "# second_turn_input = torch.cat([output_ids, second_turn_tokens['input_ids']], dim=1)\n",
        "\n",
        "# # Generate the response for the second turn\n",
        "# output_ids_2 = model.generate(second_turn_input)\n",
        "# print(\"\\n\")\n",
        "# second_turn_answer = tokenizer.batch_decode(output_ids_2)[0]\n",
        "\n",
        "# # Print the second turn answer\n",
        "# print(second_turn_answer)"
      ]
    },
    {
      "cell_type": "code",
      "source": [
        "import re\n",
        "\n",
        "# Sample multi-line text\n",
        "text = answer\n",
        "\n",
        "# Dictionary to store the extracted key-value pairs\n",
        "data_dict = {}\n",
        "\n",
        "# Split the text into lines and process each line\n",
        "for line in text.split('\\n'):\n",
        "    # Check if the line starts with '-'\n",
        "    if line.startswith(\"-\"):\n",
        "        # Extract everything after '-' up to ':' for the key\n",
        "        key_value = line[1:].strip()  # Remove '-' and any leading/trailing spaces\n",
        "        key, value = key_value.split(':', 1)  # Split only on the first ':'\n",
        "        key = key.strip()  # Remove leading/trailing spaces from key\n",
        "        value = value.strip()  # Remove leading/trailing spaces from value\n",
        "        data_dict[key] = value  # Add to the dictionary\n",
        "\n",
        "# Print the resulting dictionary\n",
        "print(data_dict)\n"
      ],
      "metadata": {
        "colab": {
          "base_uri": "https://localhost:8080/"
        },
        "id": "JLXOXeapQPmw",
        "outputId": "044b17ab-dbd9-4611-e442-fedfe8d52396"
      },
      "execution_count": 20,
      "outputs": [
        {
          "output_type": "stream",
          "name": "stdout",
          "text": [
            "{'random separation learning': 'a method of machine learning that involves splitting the training data into non-overlapping subsets and assigning them to different neural networks, so that each network learns only on its own subset. This way, the networks can discover different patterns or features from the data without interference from other networks.', 'individual neural network': 'a single instance of a neural network model that can perform a specific task, such as image classification, speech recognition, or natural language processing. Neural networks are composed of layers of artificial neurons that can learn from data and perform complex computations.', 'neural network': 'a computational model inspired by the structure and function of biological neural networks, such as the brain. Neural networks consist of interconnected units called neurons that can process information and learn from data. Neural networks can be trained to perform various tasks, such as classification, regression, clustering, or generation.', 'training samples': \"a set of input-output pairs that are used to teach a machine learning model how to perform a specific task. Training samples are usually collected from the same distribution as the target population or domain that the model is intended to serve. Training samples can be used to adjust the model parameters, such as weights and biases, to optimize the model's performance on the task.\", 'input-output pair': 'a pair of values that are related by a function or a relation. For example, an input-output pair for a machine learning model could be an image of a cat and the label \"cat\", or a sentence and the sentiment \"positive\". Input-output pairs are used to train machine learning models and evaluate their accuracy and performance.</s>'}\n"
          ]
        }
      ]
    },
    {
      "cell_type": "code",
      "source": [
        "import wikipedia\n",
        "\n",
        "# Function to get a definition from Wikipedia\n",
        "def get_definition(word, summary_sentences=3):\n",
        "    try:\n",
        "        # Get a summary for the given word/topic\n",
        "        full_summary = wikipedia.summary(word, sentences=summary_sentences)\n",
        "\n",
        "        # Extract the first complete sentence for the definition\n",
        "        definition = full_summary.split('.')[0] + '.'  # Get the first sentence\n",
        "    except wikipedia.exceptions.PageError:\n",
        "        definition = f\"Page for '{word}' does not exist on Wikipedia.\"\n",
        "    except wikipedia.exceptions.DisambiguationError as e:\n",
        "        definition = f\"'{word}' may refer to several topics: {', '.join(e.options)}\"\n",
        "    except Exception as ex:\n",
        "        definition = f\"An error occurred: {ex}\"\n",
        "\n",
        "    return definition\n",
        "\n",
        "\n",
        "# Dictionary with terms for which we need definitions\n",
        "data_dict = data_dict\n",
        "\n",
        "# Dictionary to hold definitions\n",
        "definitions_dict = {}\n",
        "\n",
        "# Loop through the keys in the input dictionary and get definitions\n",
        "for term in data_dict.keys():\n",
        "    definition = get_definition(term)  # Get the definition for the term\n",
        "    definitions_dict[term] = definition  # Assign it to the output dictionary with the same key\n",
        "\n",
        "# Output the dictionary with definitions\n",
        "for key, definition in definitions_dict.items():\n",
        "    print(f\"{key}: {definition}\")"
      ],
      "metadata": {
        "colab": {
          "base_uri": "https://localhost:8080/"
        },
        "id": "bZCfoIuG05iE",
        "outputId": "8f0ffd2d-4246-482c-80d2-82efb643faf3"
      },
      "execution_count": 21,
      "outputs": [
        {
          "output_type": "stream",
          "name": "stdout",
          "text": [
            "random separation learning: Machine learning (ML) is a field of study in artificial intelligence concerned with the development and study of statistical algorithms that can learn from data and generalize to unseen data, and thus perform tasks without explicit instructions.\n",
            "individual neural network: A neural network is a group of interconnected units called neurons that send signals to one another.\n",
            "neural network: A neural network is a group of interconnected units called neurons that send signals to one another.\n",
            "training samples: The sample complexity of a machine learning algorithm represents the number of training-samples that it needs in order to successfully learn a target function.\n",
            "input-output pair: A differential amplifier is a type of electronic amplifier that amplifies the difference between two input voltages but suppresses any voltage common to the two inputs.\n"
          ]
        }
      ]
    },
    {
      "cell_type": "code",
      "source": [
        "from sentence_transformers import SentenceTransformer, util\n",
        "\n",
        "# Initialize the SentenceTransformer model\n",
        "model = SentenceTransformer(\"all-mpnet-base-v2\")\n",
        "\n",
        "# Define two dictionaries with definitions for comparison\n",
        "dict1 = data_dict\n",
        "\n",
        "dict2 = definitions_dict\n",
        "\n",
        "# List to hold keys shared by both dictionaries\n",
        "shared_keys = []\n",
        "\n",
        "# Find shared keys in both dictionaries\n",
        "for key in dict1.keys():\n",
        "    if key in dict2:\n",
        "        shared_keys.append(key)\n",
        "\n",
        "# Create lists of sentences for shared keys\n",
        "sentences1 = [dict1[key] for key in shared_keys]\n",
        "sentences2 = [dict2[key] for key in shared_keys]\n",
        "\n",
        "# Compute embeddings for the shared keys' definitions\n",
        "embeddings1 = model.encode(sentences1, convert_to_tensor=True)\n",
        "embeddings2 = model.encode(sentences2, convert_to_tensor=True)\n",
        "\n",
        "# Compute cosine-similarities\n",
        "cosine_scores = util.cos_sim(embeddings1, embeddings2)\n",
        "\n",
        "# Output the comparisons and cosine similarity scores\n",
        "for i in range(len(shared_keys)):\n",
        "    print(\"Key: {} \\t\\t Similarity Score: {:.4f}\".format(\n",
        "        shared_keys[i], cosine_scores[i][i]\n",
        "    ))"
      ],
      "metadata": {
        "colab": {
          "base_uri": "https://localhost:8080/"
        },
        "id": "qq5XgXzYfA3s",
        "outputId": "b57ab7cc-014e-4188-f8bc-ee328cf0113e"
      },
      "execution_count": 22,
      "outputs": [
        {
          "output_type": "stream",
          "name": "stdout",
          "text": [
            "Key: random separation learning \t\t Similarity Score: 0.6022\n",
            "Key: individual neural network \t\t Similarity Score: 0.7654\n",
            "Key: neural network \t\t Similarity Score: 0.7812\n",
            "Key: training samples \t\t Similarity Score: 0.6064\n",
            "Key: input-output pair \t\t Similarity Score: 0.2636\n"
          ]
        }
      ]
    }
  ],
  "metadata": {
    "accelerator": "GPU",
    "colab": {
      "gpuType": "L4",
      "machine_shape": "hm",
      "provenance": []
    },
    "kernelspec": {
      "display_name": "Python 3",
      "name": "python3"
    },
    "language_info": {
      "name": "python"
    },
    "widgets": {
      "application/vnd.jupyter.widget-state+json": {
        "8f1a1a993bbc4fafadc7dac5a21aa5ec": {
          "model_module": "@jupyter-widgets/controls",
          "model_name": "HBoxModel",
          "model_module_version": "1.5.0",
          "state": {
            "_dom_classes": [],
            "_model_module": "@jupyter-widgets/controls",
            "_model_module_version": "1.5.0",
            "_model_name": "HBoxModel",
            "_view_count": null,
            "_view_module": "@jupyter-widgets/controls",
            "_view_module_version": "1.5.0",
            "_view_name": "HBoxView",
            "box_style": "",
            "children": [
              "IPY_MODEL_31ce622548344ecebb718a05687e48bc",
              "IPY_MODEL_9dbde09b5ae14fefbee1b49c5524203a",
              "IPY_MODEL_203892d100384f8c925819bd1eeef517"
            ],
            "layout": "IPY_MODEL_5881e49244d04d3ead332b8bc665b805"
          }
        },
        "31ce622548344ecebb718a05687e48bc": {
          "model_module": "@jupyter-widgets/controls",
          "model_name": "HTMLModel",
          "model_module_version": "1.5.0",
          "state": {
            "_dom_classes": [],
            "_model_module": "@jupyter-widgets/controls",
            "_model_module_version": "1.5.0",
            "_model_name": "HTMLModel",
            "_view_count": null,
            "_view_module": "@jupyter-widgets/controls",
            "_view_module_version": "1.5.0",
            "_view_name": "HTMLView",
            "description": "",
            "description_tooltip": null,
            "layout": "IPY_MODEL_68caec2b49da4639b22c5428a05cafcc",
            "placeholder": "​",
            "style": "IPY_MODEL_7c4c08782e7d4d4c9bf07996901ab2d5",
            "value": "Loading checkpoint shards: 100%"
          }
        },
        "9dbde09b5ae14fefbee1b49c5524203a": {
          "model_module": "@jupyter-widgets/controls",
          "model_name": "FloatProgressModel",
          "model_module_version": "1.5.0",
          "state": {
            "_dom_classes": [],
            "_model_module": "@jupyter-widgets/controls",
            "_model_module_version": "1.5.0",
            "_model_name": "FloatProgressModel",
            "_view_count": null,
            "_view_module": "@jupyter-widgets/controls",
            "_view_module_version": "1.5.0",
            "_view_name": "ProgressView",
            "bar_style": "success",
            "description": "",
            "description_tooltip": null,
            "layout": "IPY_MODEL_25375abda8f44025b4d2067b7705377e",
            "max": 3,
            "min": 0,
            "orientation": "horizontal",
            "style": "IPY_MODEL_d11ddc7c11e04422810539f91effe41e",
            "value": 3
          }
        },
        "203892d100384f8c925819bd1eeef517": {
          "model_module": "@jupyter-widgets/controls",
          "model_name": "HTMLModel",
          "model_module_version": "1.5.0",
          "state": {
            "_dom_classes": [],
            "_model_module": "@jupyter-widgets/controls",
            "_model_module_version": "1.5.0",
            "_model_name": "HTMLModel",
            "_view_count": null,
            "_view_module": "@jupyter-widgets/controls",
            "_view_module_version": "1.5.0",
            "_view_name": "HTMLView",
            "description": "",
            "description_tooltip": null,
            "layout": "IPY_MODEL_6656184338574e04b8840253734ec4fe",
            "placeholder": "​",
            "style": "IPY_MODEL_f6bfaaf3569a48409c1a3e1cb48ad824",
            "value": " 3/3 [00:05&lt;00:00,  1.30s/it]"
          }
        },
        "5881e49244d04d3ead332b8bc665b805": {
          "model_module": "@jupyter-widgets/base",
          "model_name": "LayoutModel",
          "model_module_version": "1.2.0",
          "state": {
            "_model_module": "@jupyter-widgets/base",
            "_model_module_version": "1.2.0",
            "_model_name": "LayoutModel",
            "_view_count": null,
            "_view_module": "@jupyter-widgets/base",
            "_view_module_version": "1.2.0",
            "_view_name": "LayoutView",
            "align_content": null,
            "align_items": null,
            "align_self": null,
            "border": null,
            "bottom": null,
            "display": null,
            "flex": null,
            "flex_flow": null,
            "grid_area": null,
            "grid_auto_columns": null,
            "grid_auto_flow": null,
            "grid_auto_rows": null,
            "grid_column": null,
            "grid_gap": null,
            "grid_row": null,
            "grid_template_areas": null,
            "grid_template_columns": null,
            "grid_template_rows": null,
            "height": null,
            "justify_content": null,
            "justify_items": null,
            "left": null,
            "margin": null,
            "max_height": null,
            "max_width": null,
            "min_height": null,
            "min_width": null,
            "object_fit": null,
            "object_position": null,
            "order": null,
            "overflow": null,
            "overflow_x": null,
            "overflow_y": null,
            "padding": null,
            "right": null,
            "top": null,
            "visibility": null,
            "width": null
          }
        },
        "68caec2b49da4639b22c5428a05cafcc": {
          "model_module": "@jupyter-widgets/base",
          "model_name": "LayoutModel",
          "model_module_version": "1.2.0",
          "state": {
            "_model_module": "@jupyter-widgets/base",
            "_model_module_version": "1.2.0",
            "_model_name": "LayoutModel",
            "_view_count": null,
            "_view_module": "@jupyter-widgets/base",
            "_view_module_version": "1.2.0",
            "_view_name": "LayoutView",
            "align_content": null,
            "align_items": null,
            "align_self": null,
            "border": null,
            "bottom": null,
            "display": null,
            "flex": null,
            "flex_flow": null,
            "grid_area": null,
            "grid_auto_columns": null,
            "grid_auto_flow": null,
            "grid_auto_rows": null,
            "grid_column": null,
            "grid_gap": null,
            "grid_row": null,
            "grid_template_areas": null,
            "grid_template_columns": null,
            "grid_template_rows": null,
            "height": null,
            "justify_content": null,
            "justify_items": null,
            "left": null,
            "margin": null,
            "max_height": null,
            "max_width": null,
            "min_height": null,
            "min_width": null,
            "object_fit": null,
            "object_position": null,
            "order": null,
            "overflow": null,
            "overflow_x": null,
            "overflow_y": null,
            "padding": null,
            "right": null,
            "top": null,
            "visibility": null,
            "width": null
          }
        },
        "7c4c08782e7d4d4c9bf07996901ab2d5": {
          "model_module": "@jupyter-widgets/controls",
          "model_name": "DescriptionStyleModel",
          "model_module_version": "1.5.0",
          "state": {
            "_model_module": "@jupyter-widgets/controls",
            "_model_module_version": "1.5.0",
            "_model_name": "DescriptionStyleModel",
            "_view_count": null,
            "_view_module": "@jupyter-widgets/base",
            "_view_module_version": "1.2.0",
            "_view_name": "StyleView",
            "description_width": ""
          }
        },
        "25375abda8f44025b4d2067b7705377e": {
          "model_module": "@jupyter-widgets/base",
          "model_name": "LayoutModel",
          "model_module_version": "1.2.0",
          "state": {
            "_model_module": "@jupyter-widgets/base",
            "_model_module_version": "1.2.0",
            "_model_name": "LayoutModel",
            "_view_count": null,
            "_view_module": "@jupyter-widgets/base",
            "_view_module_version": "1.2.0",
            "_view_name": "LayoutView",
            "align_content": null,
            "align_items": null,
            "align_self": null,
            "border": null,
            "bottom": null,
            "display": null,
            "flex": null,
            "flex_flow": null,
            "grid_area": null,
            "grid_auto_columns": null,
            "grid_auto_flow": null,
            "grid_auto_rows": null,
            "grid_column": null,
            "grid_gap": null,
            "grid_row": null,
            "grid_template_areas": null,
            "grid_template_columns": null,
            "grid_template_rows": null,
            "height": null,
            "justify_content": null,
            "justify_items": null,
            "left": null,
            "margin": null,
            "max_height": null,
            "max_width": null,
            "min_height": null,
            "min_width": null,
            "object_fit": null,
            "object_position": null,
            "order": null,
            "overflow": null,
            "overflow_x": null,
            "overflow_y": null,
            "padding": null,
            "right": null,
            "top": null,
            "visibility": null,
            "width": null
          }
        },
        "d11ddc7c11e04422810539f91effe41e": {
          "model_module": "@jupyter-widgets/controls",
          "model_name": "ProgressStyleModel",
          "model_module_version": "1.5.0",
          "state": {
            "_model_module": "@jupyter-widgets/controls",
            "_model_module_version": "1.5.0",
            "_model_name": "ProgressStyleModel",
            "_view_count": null,
            "_view_module": "@jupyter-widgets/base",
            "_view_module_version": "1.2.0",
            "_view_name": "StyleView",
            "bar_color": null,
            "description_width": ""
          }
        },
        "6656184338574e04b8840253734ec4fe": {
          "model_module": "@jupyter-widgets/base",
          "model_name": "LayoutModel",
          "model_module_version": "1.2.0",
          "state": {
            "_model_module": "@jupyter-widgets/base",
            "_model_module_version": "1.2.0",
            "_model_name": "LayoutModel",
            "_view_count": null,
            "_view_module": "@jupyter-widgets/base",
            "_view_module_version": "1.2.0",
            "_view_name": "LayoutView",
            "align_content": null,
            "align_items": null,
            "align_self": null,
            "border": null,
            "bottom": null,
            "display": null,
            "flex": null,
            "flex_flow": null,
            "grid_area": null,
            "grid_auto_columns": null,
            "grid_auto_flow": null,
            "grid_auto_rows": null,
            "grid_column": null,
            "grid_gap": null,
            "grid_row": null,
            "grid_template_areas": null,
            "grid_template_columns": null,
            "grid_template_rows": null,
            "height": null,
            "justify_content": null,
            "justify_items": null,
            "left": null,
            "margin": null,
            "max_height": null,
            "max_width": null,
            "min_height": null,
            "min_width": null,
            "object_fit": null,
            "object_position": null,
            "order": null,
            "overflow": null,
            "overflow_x": null,
            "overflow_y": null,
            "padding": null,
            "right": null,
            "top": null,
            "visibility": null,
            "width": null
          }
        },
        "f6bfaaf3569a48409c1a3e1cb48ad824": {
          "model_module": "@jupyter-widgets/controls",
          "model_name": "DescriptionStyleModel",
          "model_module_version": "1.5.0",
          "state": {
            "_model_module": "@jupyter-widgets/controls",
            "_model_module_version": "1.5.0",
            "_model_name": "DescriptionStyleModel",
            "_view_count": null,
            "_view_module": "@jupyter-widgets/base",
            "_view_module_version": "1.2.0",
            "_view_name": "StyleView",
            "description_width": ""
          }
        }
      }
    }
  },
  "nbformat": 4,
  "nbformat_minor": 0
}